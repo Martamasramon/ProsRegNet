{
 "cells": [
  {
   "cell_type": "markdown",
   "metadata": {},
   "source": [
    "##### import libraries"
   ]
  },
  {
   "cell_type": "code",
   "execution_count": 1,
   "metadata": {
    "vscode": {
     "languageId": "python"
    }
   },
   "outputs": [],
   "source": [
    "import json \n",
    "import cv2\n",
    "from matplotlib import pyplot as plt\n",
    "import numpy as np\n",
    "from preprocess import *\n",
    "import SimpleITK as sitk\n",
    "from collections import OrderedDict\n",
    "import os\n",
    "from register_images import *\n",
    "import sys\n",
    "sys.path.insert(0, '../')\n",
    "from parse_registration_json import ParserRegistrationJson\n",
    "from parse_study_dict import ParserStudyDict\n",
    "import time"
   ]
  },
  {
   "cell_type": "code",
   "execution_count": 2,
   "metadata": {
    "vscode": {
     "languageId": "python"
    }
   },
   "outputs": [
    {
     "name": "stdout",
     "output_type": "stream",
     "text": [
      "'do_affine'\n",
      "'do_deformable'\n",
      "'do_reconstruction'\n",
      "'fast_execution'\n",
      "'use_imaging_constraints'\n",
      "Reading aaa0069 Study Json ./jsonData/reg_aaa0069.json\n"
     ]
    }
   ],
   "source": [
    "####### INPUTS\n",
    "json_path = \"./jsonData/TCIA_FUSION.json\"\n",
    "preprocess_moving = True\n",
    "preprocess_fixed = True\n",
    "run_registration = True\n",
    "extension = 'nii.gz'\n",
    "timings = {}\n",
    "\n",
    "try:\n",
    "    with open('coord.txt') as f:\n",
    "        coord = json.load(f)   \n",
    "        \n",
    "except:\n",
    "    coord = {}\n",
    "\n",
    "############### START REGISTRATION HERE\n",
    "\n",
    "json_obj = ParserRegistrationJson(json_path)\n",
    "\n",
    "studies = json_obj.studies\n",
    "toProcess = json_obj.ToProcess\n",
    "outputPath = json_obj.output_path\n",
    "\n",
    "cases = toProcess.keys()\n",
    "\n",
    "if not os.path.isdir(outputPath):\n",
    "    os.mkdir(outputPath) \n",
    "\n",
    "###### PREPROCESSING DESTINATIONS ######################################\n",
    "preprocess_moving_dest = outputPath + '/preprocess/hist'\n",
    "preprocess_fixed_dest = outputPath + '/preprocess/mri'\n",
    "\n",
    "if not os.path.isdir(outputPath + '/preprocess'):\n",
    "    os.mkdir(outputPath + '/preprocess')\n",
    "\n",
    "if not os.path.isdir(preprocess_moving_dest):\n",
    "    os.mkdir(preprocess_moving_dest)\n",
    "    \n",
    "if not os.path.isdir(preprocess_fixed_dest):\n",
    "    os.mkdir(preprocess_fixed_dest)"
   ]
  },
  {
   "cell_type": "code",
   "execution_count": 4,
   "metadata": {
    "scrolled": true,
    "vscode": {
     "languageId": "python"
    }
   },
   "outputs": [
    {
     "name": "stdout",
     "output_type": "stream",
     "text": [
      "xxxxxxxxxxxxxxxxxxxxxxxxxxxxxx Processing aaa0069 xxxxxxxxxxxxxxxxxxxxxxxxxxxxxx\n",
      "Preprocessing moving sid: aaa0069 ...\n",
      "Finished preprocessing aaa0069\n",
      "Preprocessing fixed case: aaa0069 ...\n",
      "Finished processing fixed mha aaa0069\n",
      ".............................. Begin deep learning registration for aaa0069..............................\n"
     ]
    },
    {
     "ename": "AssertionError",
     "evalue": "\nFound no NVIDIA driver on your system. Please check that you\nhave an NVIDIA GPU and installed a driver from\nhttp://www.nvidia.com/Download/index.aspx",
     "output_type": "error",
     "traceback": [
      "\u001b[0;31m---------------------------------------------------------------------------\u001b[0m",
      "\u001b[0;31mAssertionError\u001b[0m                            Traceback (most recent call last)",
      "\u001b[0;32m<ipython-input-4-8830b476b7b5>\u001b[0m in \u001b[0;36m<module>\u001b[0;34m\u001b[0m\n\u001b[1;32m     50\u001b[0m \u001b[0;34m\u001b[0m\u001b[0m\n\u001b[1;32m     51\u001b[0m         \u001b[0mstart\u001b[0m \u001b[0;34m=\u001b[0m \u001b[0mtime\u001b[0m\u001b[0;34m.\u001b[0m\u001b[0mtime\u001b[0m\u001b[0;34m(\u001b[0m\u001b[0;34m)\u001b[0m\u001b[0;34m\u001b[0m\u001b[0;34m\u001b[0m\u001b[0m\n\u001b[0;32m---> 52\u001b[0;31m         \u001b[0moutput3D_cache\u001b[0m \u001b[0;34m=\u001b[0m \u001b[0mregister\u001b[0m\u001b[0;34m(\u001b[0m\u001b[0mpreprocess_moving_dest\u001b[0m \u001b[0;34m+\u001b[0m \u001b[0msid\u001b[0m \u001b[0;34m+\u001b[0m \u001b[0;34m'/'\u001b[0m\u001b[0;34m,\u001b[0m \u001b[0mpreprocess_fixed_dest\u001b[0m \u001b[0;34m+\u001b[0m \u001b[0msid\u001b[0m \u001b[0;34m+\u001b[0m \u001b[0;34m'/'\u001b[0m\u001b[0;34m,\u001b[0m \u001b[0mcoord\u001b[0m\u001b[0;34m,\u001b[0m \u001b[0mmodel_cache\u001b[0m\u001b[0;34m,\u001b[0m \u001b[0msid\u001b[0m\u001b[0;34m)\u001b[0m\u001b[0;34m\u001b[0m\u001b[0;34m\u001b[0m\u001b[0m\n\u001b[0m\u001b[1;32m     53\u001b[0m         \u001b[0mout3Dhist_highRes\u001b[0m\u001b[0;34m,\u001b[0m \u001b[0mout3Dmri_highRes\u001b[0m\u001b[0;34m,\u001b[0m \u001b[0mout3Dcancer_highRes\u001b[0m\u001b[0;34m,\u001b[0m \u001b[0mout3D_region00\u001b[0m\u001b[0;34m,\u001b[0m \u001b[0mout3D_region10\u001b[0m\u001b[0;34m,\u001b[0m \u001b[0mout3D_region09\u001b[0m\u001b[0;34m,\u001b[0m \u001b[0mout3Dmri_mask\u001b[0m \u001b[0;34m=\u001b[0m \u001b[0moutput3D_cache\u001b[0m\u001b[0;34m\u001b[0m\u001b[0;34m\u001b[0m\u001b[0m\n\u001b[1;32m     54\u001b[0m         \u001b[0mend\u001b[0m \u001b[0;34m=\u001b[0m \u001b[0mtime\u001b[0m\u001b[0;34m.\u001b[0m\u001b[0mtime\u001b[0m\u001b[0;34m(\u001b[0m\u001b[0;34m)\u001b[0m\u001b[0;34m\u001b[0m\u001b[0;34m\u001b[0m\u001b[0m\n",
      "\u001b[0;32m~/ProsRegNet/register_images.py\u001b[0m in \u001b[0;36mregister\u001b[0;34m(preprocess_moving_dest, preprocess_fixed_dest, coord, model_cache, sid)\u001b[0m\n\u001b[1;32m    400\u001b[0m \u001b[0;34m\u001b[0m\u001b[0m\n\u001b[1;32m    401\u001b[0m         \u001b[0;31m######## REGISTER\u001b[0m\u001b[0;34m\u001b[0m\u001b[0;34m\u001b[0m\u001b[0;34m\u001b[0m\u001b[0m\n\u001b[0;32m--> 402\u001b[0;31m         \u001b[0maffTps\u001b[0m\u001b[0;34m,\u001b[0m \u001b[0mcancerAffTps\u001b[0m\u001b[0;34m,\u001b[0m \u001b[0mregion00_aff_tps\u001b[0m\u001b[0;34m,\u001b[0m \u001b[0mregion10_aff_tps\u001b[0m\u001b[0;34m,\u001b[0m \u001b[0mregion09_aff_tps\u001b[0m\u001b[0;34m=\u001b[0m \u001b[0mrunCnn\u001b[0m\u001b[0;34m(\u001b[0m\u001b[0mmodel_cache\u001b[0m\u001b[0;34m,\u001b[0m \u001b[0msource_image_path\u001b[0m\u001b[0;34m,\u001b[0m \u001b[0mtarget_image_path\u001b[0m\u001b[0;34m,\u001b[0m \u001b[0mimCancer\u001b[0m\u001b[0;34m,\u001b[0m \u001b[0mimRegion00\u001b[0m\u001b[0;34m,\u001b[0m \u001b[0mimRegion10\u001b[0m\u001b[0;34m,\u001b[0m \u001b[0mimRegion09\u001b[0m\u001b[0;34m)\u001b[0m\u001b[0;34m\u001b[0m\u001b[0;34m\u001b[0m\u001b[0m\n\u001b[0m\u001b[1;32m    403\u001b[0m \u001b[0;34m\u001b[0m\u001b[0m\n\u001b[1;32m    404\u001b[0m         \u001b[0;31m####### region 00\u001b[0m\u001b[0;34m\u001b[0m\u001b[0;34m\u001b[0m\u001b[0;34m\u001b[0m\u001b[0m\n",
      "\u001b[0;32m~/ProsRegNet/register_images.py\u001b[0m in \u001b[0;36mrunCnn\u001b[0;34m(model_cache, source_image_path, target_image_path, region01, region00, region10, region09)\u001b[0m\n\u001b[1;32m    197\u001b[0m         \u001b[0;31m#theta_aff=model_aff(batch)\u001b[0m\u001b[0;34m\u001b[0m\u001b[0;34m\u001b[0m\u001b[0;34m\u001b[0m\u001b[0m\n\u001b[1;32m    198\u001b[0m         \u001b[0;31m#### affine registration using the masks only\u001b[0m\u001b[0;34m\u001b[0m\u001b[0;34m\u001b[0m\u001b[0;34m\u001b[0m\u001b[0m\n\u001b[0;32m--> 199\u001b[0;31m         \u001b[0mtheta_aff\u001b[0m\u001b[0;34m=\u001b[0m\u001b[0mmodel_aff\u001b[0m\u001b[0;34m(\u001b[0m\u001b[0mbatch_mask\u001b[0m\u001b[0;34m)\u001b[0m\u001b[0;34m\u001b[0m\u001b[0;34m\u001b[0m\u001b[0m\n\u001b[0m\u001b[1;32m    200\u001b[0m         \u001b[0mwarped_image_aff_high_res\u001b[0m \u001b[0;34m=\u001b[0m \u001b[0maffTnf_high_res\u001b[0m\u001b[0;34m(\u001b[0m\u001b[0mbatch_high_res\u001b[0m\u001b[0;34m[\u001b[0m\u001b[0;34m'source_image'\u001b[0m\u001b[0;34m]\u001b[0m\u001b[0;34m,\u001b[0m \u001b[0mtheta_aff\u001b[0m\u001b[0;34m.\u001b[0m\u001b[0mview\u001b[0m\u001b[0;34m(\u001b[0m\u001b[0;34m-\u001b[0m\u001b[0;36m1\u001b[0m\u001b[0;34m,\u001b[0m\u001b[0;36m2\u001b[0m\u001b[0;34m,\u001b[0m\u001b[0;36m3\u001b[0m\u001b[0;34m)\u001b[0m\u001b[0;34m)\u001b[0m\u001b[0;34m\u001b[0m\u001b[0;34m\u001b[0m\u001b[0m\n\u001b[1;32m    201\u001b[0m         \u001b[0mwarped_image_aff\u001b[0m \u001b[0;34m=\u001b[0m \u001b[0maffTnf\u001b[0m\u001b[0;34m(\u001b[0m\u001b[0mbatch\u001b[0m\u001b[0;34m[\u001b[0m\u001b[0;34m'source_image'\u001b[0m\u001b[0;34m]\u001b[0m\u001b[0;34m,\u001b[0m \u001b[0mtheta_aff\u001b[0m\u001b[0;34m.\u001b[0m\u001b[0mview\u001b[0m\u001b[0;34m(\u001b[0m\u001b[0;34m-\u001b[0m\u001b[0;36m1\u001b[0m\u001b[0;34m,\u001b[0m\u001b[0;36m2\u001b[0m\u001b[0;34m,\u001b[0m\u001b[0;36m3\u001b[0m\u001b[0;34m)\u001b[0m\u001b[0;34m)\u001b[0m\u001b[0;34m\u001b[0m\u001b[0;34m\u001b[0m\u001b[0m\n",
      "\u001b[0;32m~/.local/lib/python3.6/site-packages/torch/nn/modules/module.py\u001b[0m in \u001b[0;36m__call__\u001b[0;34m(self, *input, **kwargs)\u001b[0m\n\u001b[1;32m    539\u001b[0m             \u001b[0mresult\u001b[0m \u001b[0;34m=\u001b[0m \u001b[0mself\u001b[0m\u001b[0;34m.\u001b[0m\u001b[0m_slow_forward\u001b[0m\u001b[0;34m(\u001b[0m\u001b[0;34m*\u001b[0m\u001b[0minput\u001b[0m\u001b[0;34m,\u001b[0m \u001b[0;34m**\u001b[0m\u001b[0mkwargs\u001b[0m\u001b[0;34m)\u001b[0m\u001b[0;34m\u001b[0m\u001b[0;34m\u001b[0m\u001b[0m\n\u001b[1;32m    540\u001b[0m         \u001b[0;32melse\u001b[0m\u001b[0;34m:\u001b[0m\u001b[0;34m\u001b[0m\u001b[0;34m\u001b[0m\u001b[0m\n\u001b[0;32m--> 541\u001b[0;31m             \u001b[0mresult\u001b[0m \u001b[0;34m=\u001b[0m \u001b[0mself\u001b[0m\u001b[0;34m.\u001b[0m\u001b[0mforward\u001b[0m\u001b[0;34m(\u001b[0m\u001b[0;34m*\u001b[0m\u001b[0minput\u001b[0m\u001b[0;34m,\u001b[0m \u001b[0;34m**\u001b[0m\u001b[0mkwargs\u001b[0m\u001b[0;34m)\u001b[0m\u001b[0;34m\u001b[0m\u001b[0;34m\u001b[0m\u001b[0m\n\u001b[0m\u001b[1;32m    542\u001b[0m         \u001b[0;32mfor\u001b[0m \u001b[0mhook\u001b[0m \u001b[0;32min\u001b[0m \u001b[0mself\u001b[0m\u001b[0;34m.\u001b[0m\u001b[0m_forward_hooks\u001b[0m\u001b[0;34m.\u001b[0m\u001b[0mvalues\u001b[0m\u001b[0;34m(\u001b[0m\u001b[0;34m)\u001b[0m\u001b[0;34m:\u001b[0m\u001b[0;34m\u001b[0m\u001b[0;34m\u001b[0m\u001b[0m\n\u001b[1;32m    543\u001b[0m             \u001b[0mhook_result\u001b[0m \u001b[0;34m=\u001b[0m \u001b[0mhook\u001b[0m\u001b[0;34m(\u001b[0m\u001b[0mself\u001b[0m\u001b[0;34m,\u001b[0m \u001b[0minput\u001b[0m\u001b[0;34m,\u001b[0m \u001b[0mresult\u001b[0m\u001b[0;34m)\u001b[0m\u001b[0;34m\u001b[0m\u001b[0;34m\u001b[0m\u001b[0m\n",
      "\u001b[0;32m~/ProsRegNet/model/ProsRegNet_model.py\u001b[0m in \u001b[0;36mforward\u001b[0;34m(self, tnf_batch)\u001b[0m\n\u001b[1;32m    149\u001b[0m             \u001b[0mtemp\u001b[0m \u001b[0;34m=\u001b[0m \u001b[0mtorch\u001b[0m\u001b[0;34m.\u001b[0m\u001b[0mtensor\u001b[0m\u001b[0;34m(\u001b[0m\u001b[0;34m[\u001b[0m\u001b[0;36m1.0\u001b[0m\u001b[0;34m,\u001b[0m\u001b[0;36m0\u001b[0m\u001b[0;34m,\u001b[0m\u001b[0;36m0\u001b[0m\u001b[0;34m,\u001b[0m\u001b[0;36m0\u001b[0m\u001b[0;34m,\u001b[0m\u001b[0;36m1.0\u001b[0m\u001b[0;34m,\u001b[0m\u001b[0;36m0\u001b[0m\u001b[0;34m]\u001b[0m\u001b[0;34m)\u001b[0m\u001b[0;34m\u001b[0m\u001b[0;34m\u001b[0m\u001b[0m\n\u001b[1;32m    150\u001b[0m             \u001b[0madjust\u001b[0m \u001b[0;34m=\u001b[0m \u001b[0mtemp\u001b[0m\u001b[0;34m.\u001b[0m\u001b[0mrepeat\u001b[0m\u001b[0;34m(\u001b[0m\u001b[0mtheta\u001b[0m\u001b[0;34m.\u001b[0m\u001b[0mshape\u001b[0m\u001b[0;34m[\u001b[0m\u001b[0;36m0\u001b[0m\u001b[0;34m]\u001b[0m\u001b[0;34m,\u001b[0m\u001b[0;36m1\u001b[0m\u001b[0;34m)\u001b[0m\u001b[0;34m\u001b[0m\u001b[0;34m\u001b[0m\u001b[0m\n\u001b[0;32m--> 151\u001b[0;31m             \u001b[0madjust\u001b[0m \u001b[0;34m=\u001b[0m \u001b[0madjust\u001b[0m\u001b[0;34m.\u001b[0m\u001b[0mcuda\u001b[0m\u001b[0;34m(\u001b[0m\u001b[0;34m)\u001b[0m\u001b[0;34m\u001b[0m\u001b[0;34m\u001b[0m\u001b[0m\n\u001b[0m\u001b[1;32m    152\u001b[0m             \u001b[0mtheta\u001b[0m \u001b[0;34m=\u001b[0m \u001b[0;36m0.1\u001b[0m\u001b[0;34m*\u001b[0m\u001b[0mtheta\u001b[0m \u001b[0;34m+\u001b[0m \u001b[0madjust\u001b[0m\u001b[0;34m\u001b[0m\u001b[0;34m\u001b[0m\u001b[0m\n\u001b[1;32m    153\u001b[0m             \u001b[0mtheta\u001b[0m \u001b[0;34m=\u001b[0m \u001b[0mtheta\u001b[0m\u001b[0;34m.\u001b[0m\u001b[0mreshape\u001b[0m\u001b[0;34m(\u001b[0m\u001b[0mtheta\u001b[0m\u001b[0;34m.\u001b[0m\u001b[0msize\u001b[0m\u001b[0;34m(\u001b[0m\u001b[0;34m)\u001b[0m\u001b[0;34m[\u001b[0m\u001b[0;36m0\u001b[0m\u001b[0;34m]\u001b[0m\u001b[0;34m,\u001b[0m\u001b[0;36m2\u001b[0m\u001b[0;34m,\u001b[0m\u001b[0;36m3\u001b[0m\u001b[0;34m)\u001b[0m\u001b[0;34m\u001b[0m\u001b[0;34m\u001b[0m\u001b[0m\n",
      "\u001b[0;32m~/.local/lib/python3.6/site-packages/torch/cuda/__init__.py\u001b[0m in \u001b[0;36m_lazy_init\u001b[0;34m()\u001b[0m\n\u001b[1;32m    190\u001b[0m             raise RuntimeError(\n\u001b[1;32m    191\u001b[0m                 \"Cannot re-initialize CUDA in forked subprocess. \" + msg)\n\u001b[0;32m--> 192\u001b[0;31m         \u001b[0m_check_driver\u001b[0m\u001b[0;34m(\u001b[0m\u001b[0;34m)\u001b[0m\u001b[0;34m\u001b[0m\u001b[0;34m\u001b[0m\u001b[0m\n\u001b[0m\u001b[1;32m    193\u001b[0m         \u001b[0mtorch\u001b[0m\u001b[0;34m.\u001b[0m\u001b[0m_C\u001b[0m\u001b[0;34m.\u001b[0m\u001b[0m_cuda_init\u001b[0m\u001b[0;34m(\u001b[0m\u001b[0;34m)\u001b[0m\u001b[0;34m\u001b[0m\u001b[0;34m\u001b[0m\u001b[0m\n\u001b[1;32m    194\u001b[0m         \u001b[0m_cudart\u001b[0m \u001b[0;34m=\u001b[0m \u001b[0m_load_cudart\u001b[0m\u001b[0;34m(\u001b[0m\u001b[0;34m)\u001b[0m\u001b[0;34m\u001b[0m\u001b[0;34m\u001b[0m\u001b[0m\n",
      "\u001b[0;32m~/.local/lib/python3.6/site-packages/torch/cuda/__init__.py\u001b[0m in \u001b[0;36m_check_driver\u001b[0;34m()\u001b[0m\n\u001b[1;32m    100\u001b[0m \u001b[0mFound\u001b[0m \u001b[0mno\u001b[0m \u001b[0mNVIDIA\u001b[0m \u001b[0mdriver\u001b[0m \u001b[0mon\u001b[0m \u001b[0myour\u001b[0m \u001b[0msystem\u001b[0m\u001b[0;34m.\u001b[0m \u001b[0mPlease\u001b[0m \u001b[0mcheck\u001b[0m \u001b[0mthat\u001b[0m \u001b[0myou\u001b[0m\u001b[0;34m\u001b[0m\u001b[0;34m\u001b[0m\u001b[0m\n\u001b[1;32m    101\u001b[0m \u001b[0mhave\u001b[0m \u001b[0man\u001b[0m \u001b[0mNVIDIA\u001b[0m \u001b[0mGPU\u001b[0m \u001b[0;32mand\u001b[0m \u001b[0minstalled\u001b[0m \u001b[0ma\u001b[0m \u001b[0mdriver\u001b[0m \u001b[0;32mfrom\u001b[0m\u001b[0;34m\u001b[0m\u001b[0;34m\u001b[0m\u001b[0m\n\u001b[0;32m--> 102\u001b[0;31m http://www.nvidia.com/Download/index.aspx\"\"\")\n\u001b[0m\u001b[1;32m    103\u001b[0m         \u001b[0;32melse\u001b[0m\u001b[0;34m:\u001b[0m\u001b[0;34m\u001b[0m\u001b[0;34m\u001b[0m\u001b[0m\n\u001b[1;32m    104\u001b[0m             \u001b[0;31m# TODO: directly link to the alternative bin that needs install\u001b[0m\u001b[0;34m\u001b[0m\u001b[0;34m\u001b[0m\u001b[0;34m\u001b[0m\u001b[0m\n",
      "\u001b[0;31mAssertionError\u001b[0m: \nFound no NVIDIA driver on your system. Please check that you\nhave an NVIDIA GPU and installed a driver from\nhttp://www.nvidia.com/Download/index.aspx"
     ]
    }
   ],
   "source": [
    "# start doing preprocessing on each case and register\n",
    "for s in json_obj.studies:\n",
    "    if json_obj.ToProcess:\n",
    "        if not (s in json_obj.ToProcess):\n",
    "            print(\"Skipping\", s)\n",
    "            continue\n",
    "\n",
    "    print(\"x\"*30, \"Processing\", s,\"x\"*30)\n",
    "    studyDict = json_obj.studies[s] \n",
    "\n",
    "\n",
    "    studyParser = ParserStudyDict(studyDict)\n",
    "    \n",
    "    sid = studyParser.id\n",
    "    fixed_img_mha = studyParser.fixed_filename\n",
    "    fixed_seg = studyParser.fixed_segmentation_filename\n",
    "    moving_dict = studyParser.ReadMovingImage()\n",
    "    \n",
    "    ###### PREPROCESSING HISTOLOGY HERE #############################################################\n",
    "    if preprocess_moving == True: \n",
    "        print('Preprocessing moving sid:', sid, '...')\n",
    "        preprocess_hist(moving_dict, preprocess_moving_dest, sid)\n",
    "        print('Finished preprocessing', sid)\n",
    "\n",
    "    ###### PREPROCESSING MRI HERE #############################################################\n",
    "    if preprocess_fixed == True:\n",
    "        print (\"Preprocessing fixed case:\", sid, '...')\n",
    "\n",
    "        coord = preprocess_mri(fixed_img_mha, fixed_seg, preprocess_fixed_dest, coord, sid)\n",
    "\n",
    "        print(\"Finished processing fixed mha\", sid)\n",
    "\n",
    "        with open('coord.txt', 'w') as json_file: \n",
    "            json.dump(coord, json_file)\n",
    "    ##### ALIGNMENT HERE ########################################################################\n",
    "    if run_registration == True: \n",
    "        \n",
    "        ######## LOAD MODELS\n",
    "        print('.'*30, 'Begin deep learning registration for ' + sid + '.'*30)\n",
    "\n",
    "        try:\n",
    "            model_cache\n",
    "        except NameError:\n",
    "            feature_extraction_cnn = 'resnet101'\n",
    "\n",
    "            model_aff_path = './trained_models/best_CombinedLoss_affine_resnet101.pth.tar'\n",
    "            model_tps_path = './trained_models/best_CombinedLoss_tps_resnet101.pth.tar'\n",
    "\n",
    "            model_cache = load_models(feature_extraction_cnn, model_aff_path, model_tps_path, do_deformable=True)\n",
    "        \n",
    "        start = time.time()\n",
    "        output3D_cache = register(preprocess_moving_dest + sid + '/', preprocess_fixed_dest + sid + '/', coord, model_cache, sid)\n",
    "        out3Dhist_highRes, out3Dmri_highRes, out3Dcancer_highRes, out3D_region00, out3D_region10, out3D_region09, out3Dmri_mask = output3D_cache\n",
    "        end = time.time()\n",
    "        print(\"Registration done in {:6.3f}(min)\".format((end-start)/60.0))\n",
    "        imMri = sitk.ReadImage(fixed_img_mha)\n",
    "        mriOrigin = imMri[:,:,coord[sid]['slice'][0]:coord[sid]['slice'][-1]].GetOrigin()\n",
    "        mriSpace  = imMri.GetSpacing()\n",
    "        mriDirection = imMri.GetDirection()\n",
    "\n",
    "        imSpatialInfo = (mriOrigin, mriSpace, mriDirection)\n",
    "\n",
    "        # write output hist 3D volume to .nii.gz format\n",
    "        fn_moving_highRes = '_moved_highres_rgb.'\n",
    "        output_results_high_res(preprocess_moving_dest + sid + '/',preprocess_fixed_dest,outputPath, out3Dhist_highRes, sid, fn_moving_highRes, imSpatialInfo, coord, imMri, extension = \"nii.gz\")\n",
    "\n",
    "        #write output mri 3D volume to .nii.gz format\n",
    "        fn_fixed_highRes = '_fixed_image.'\n",
    "        output_results(outputPath, out3Dmri_highRes, sid, fn_fixed_highRes, imSpatialInfo, extension = \"nii.gz\")\n",
    "\n",
    "        #write output cancer outline 3D volume to .nii.gz format\n",
    "        fn_cancer_highRes = '_moved_highres_region01_label.'\n",
    "        output_results_high_res(preprocess_moving_dest + sid + '/',preprocess_fixed_dest,outputPath, out3Dcancer_highRes, sid, fn_cancer_highRes, imSpatialInfo, coord, imMri, extension = \"nii.gz\")\n",
    "        \n",
    "        #write region00\n",
    "        fn_region00 = '_moved_highres_region00_label.'\n",
    "        output_results_high_res(preprocess_moving_dest + sid + '/',preprocess_fixed_dest,outputPath, out3D_region00, sid, fn_region00, imSpatialInfo, coord, imMri, extension = \"nii.gz\")\n",
    "        \n",
    "        #write region10\n",
    "        fn_region00 = '_moved_highres_region10_label.'\n",
    "        output_results_high_res(preprocess_moving_dest + sid + '/',preprocess_fixed_dest,outputPath, out3D_region10, sid, fn_region00, imSpatialInfo, coord, imMri, extension = \"nii.gz\")\n",
    "        \n",
    "        #write region09\n",
    "        fn_region00 = '_moved_highres_region09_label.'\n",
    "        output_results_high_res(preprocess_moving_dest + sid + '/',preprocess_fixed_dest,outputPath, out3D_region09, sid, fn_region00, imSpatialInfo, coord, imMri, extension = \"nii.gz\")\n",
    "        \n",
    "        #write mriMask\n",
    "        fn_mriMask = '_fixed_mask_label.'\n",
    "        output_results(outputPath, out3Dmri_mask, sid, fn_mriMask, imSpatialInfo, extension = \"nii.gz\")\n",
    "\n",
    "        timings[s] = (end-start)/60.0\n",
    "        print('Done!')"
   ]
  },
  {
   "cell_type": "code",
   "execution_count": null,
   "metadata": {
    "vscode": {
     "languageId": "python"
    }
   },
   "outputs": [],
   "source": [
    "json.dump(timings, open(\"timings.txt\",'w'))"
   ]
  },
  {
   "cell_type": "code",
   "execution_count": null,
   "metadata": {
    "vscode": {
     "languageId": "python"
    }
   },
   "outputs": [],
   "source": []
  }
 ],
 "metadata": {
  "kernelspec": {
   "display_name": "Python 3",
   "language": "python",
   "name": "python3"
  },
  "language_info": {
   "codemirror_mode": {
    "name": "ipython",
    "version": 3
   },
   "file_extension": ".py",
   "mimetype": "text/x-python",
   "name": "python",
   "nbconvert_exporter": "python",
   "pygments_lexer": "ipython3",
   "version": "3.6.9"
  }
 },
 "nbformat": 4,
 "nbformat_minor": 2
}
